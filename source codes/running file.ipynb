{
 "cells": [
  {
   "cell_type": "code",
   "execution_count": 1,
   "metadata": {
    "collapsed": false
   },
   "outputs": [
    {
     "name": "stdout",
     "output_type": "stream",
     "text": [
      "a"
     ]
    },
    {
     "name": "stderr",
     "output_type": "stream",
     "text": [
      "C:\\Users\\hp\\Anaconda2\\lib\\site-packages\\sklearn\\cross_validation.py:44: DeprecationWarning: This module was deprecated in version 0.18 in favor of the model_selection module into which all the refactored classes and functions are moved. Also note that the interface of the new CV iterators are different from that of this module. This module will be removed in 0.20.\n",
      "  \"This module will be removed in 0.20.\", DeprecationWarning)\n"
     ]
    },
    {
     "name": "stdout",
     "output_type": "stream",
     "text": [
      "\n",
      "a\n",
      "a\n",
      "a\n"
     ]
    },
    {
     "ename": "IOError",
     "evalue": "[Errno 2] No such file or directory: 'test_final3.txt'",
     "output_type": "error",
     "traceback": [
      "\u001b[0;31m---------------------------------------------------------------------------\u001b[0m",
      "\u001b[0;31mIOError\u001b[0m                                   Traceback (most recent call last)",
      "\u001b[0;32m<ipython-input-1-c0e5d5df15ae>\u001b[0m in \u001b[0;36m<module>\u001b[0;34m()\u001b[0m\n\u001b[1;32m     30\u001b[0m \u001b[1;33m\u001b[0m\u001b[0m\n\u001b[1;32m     31\u001b[0m \u001b[1;32mprint\u001b[0m\u001b[1;33m(\u001b[0m\u001b[1;34m\"a\"\u001b[0m\u001b[1;33m)\u001b[0m\u001b[1;33m\u001b[0m\u001b[0m\n\u001b[0;32m---> 32\u001b[0;31m \u001b[0mprocess_URL_list\u001b[0m\u001b[1;33m(\u001b[0m\u001b[1;34m'test_final3.txt'\u001b[0m\u001b[1;33m,\u001b[0m\u001b[1;34m'test_features_3.csv'\u001b[0m\u001b[1;33m)\u001b[0m\u001b[1;33m\u001b[0m\u001b[0m\n\u001b[0m\u001b[1;32m     33\u001b[0m \u001b[1;31m#tokens_words=re.split('\\W+',\"http://linkedin.com\")\u001b[0m\u001b[1;33m\u001b[0m\u001b[1;33m\u001b[0m\u001b[0m\n",
      "\u001b[0;32m<ipython-input-1-c0e5d5df15ae>\u001b[0m in \u001b[0;36mprocess_URL_list\u001b[0;34m(file_dest, output_dest)\u001b[0m\n\u001b[1;32m     17\u001b[0m \u001b[1;32mdef\u001b[0m \u001b[0mprocess_URL_list\u001b[0m\u001b[1;33m(\u001b[0m\u001b[0mfile_dest\u001b[0m\u001b[1;33m,\u001b[0m\u001b[0moutput_dest\u001b[0m\u001b[1;33m)\u001b[0m\u001b[1;33m:\u001b[0m\u001b[1;31m# i think this takes whole file of urls with given malicious to extract their  feature and provide malicious column also like this will take url.txt\u001b[0m\u001b[1;33m\u001b[0m\u001b[0m\n\u001b[1;32m     18\u001b[0m     \u001b[0mfeature\u001b[0m\u001b[1;33m=\u001b[0m\u001b[1;33m[\u001b[0m\u001b[1;33m]\u001b[0m\u001b[1;33m\u001b[0m\u001b[0m\n\u001b[0;32m---> 19\u001b[0;31m     \u001b[1;32mwith\u001b[0m \u001b[0mopen\u001b[0m\u001b[1;33m(\u001b[0m\u001b[0mfile_dest\u001b[0m\u001b[1;33m)\u001b[0m \u001b[1;32mas\u001b[0m \u001b[0mfile\u001b[0m\u001b[1;33m:\u001b[0m\u001b[1;33m\u001b[0m\u001b[0m\n\u001b[0m\u001b[1;32m     20\u001b[0m         \u001b[1;32mfor\u001b[0m \u001b[0mline\u001b[0m \u001b[1;32min\u001b[0m \u001b[0mfile\u001b[0m\u001b[1;33m:\u001b[0m\u001b[1;33m\u001b[0m\u001b[0m\n\u001b[1;32m     21\u001b[0m             \u001b[0murl\u001b[0m\u001b[1;33m=\u001b[0m\u001b[0mline\u001b[0m\u001b[1;33m.\u001b[0m\u001b[0msplit\u001b[0m\u001b[1;33m(\u001b[0m\u001b[1;34m','\u001b[0m\u001b[1;33m)\u001b[0m\u001b[1;33m[\u001b[0m\u001b[1;36m0\u001b[0m\u001b[1;33m]\u001b[0m\u001b[1;33m.\u001b[0m\u001b[0mstrip\u001b[0m\u001b[1;33m(\u001b[0m\u001b[1;33m)\u001b[0m\u001b[1;33m\u001b[0m\u001b[0m\n",
      "\u001b[0;31mIOError\u001b[0m: [Errno 2] No such file or directory: 'test_final3.txt'"
     ]
    }
   ],
   "source": [
    "import csv\n",
    "import Feature_extraction as urlfeature # this will take file feature_extraction as urlfeature\n",
    "print(\"a\")\n",
    "import trainer as tr # this will take file train.py as tr\n",
    "print(\"a\")\n",
    "def resultwriter(feature,output_dest): # this will write all the features iin a csv file\n",
    "    flag=True\n",
    "    with open(output_dest,'wb') as f:\n",
    "        for item in feature:\n",
    "            w = csv.DictWriter(f, item[1].keys())\n",
    "            if flag:\n",
    "                w.writeheader()\n",
    "                flag=False\n",
    "            w.writerow(item[1])\n",
    "\n",
    "print(\"a\")\n",
    "def process_URL_list(file_dest,output_dest):# i think this takes whole file of urls with given malicious to extract their  feature and provide malicious column also like this will take url.txt\n",
    "    feature=[]\n",
    "    with open(file_dest) as file:\n",
    "        for line in file:\n",
    "            url=line.split(',')[0].strip()\n",
    "            malicious_bool=line.split(',')[1].strip()\n",
    "            if url!='':\n",
    "                print ('working on: '+url)           #showoff \n",
    "                ret_dict=urlfeature.feature_extract(url)\n",
    "                ret_dict['malicious']=malicious_bool\n",
    "                feature.append([url,ret_dict]);\n",
    "    resultwriter(feature,output_dest)\n",
    "\n",
    "\n",
    "print(\"a\")\n",
    "process_URL_list('test_final.txt','test_features.csv')\n",
    "#process_URL_list('train_final.txt','train_features.csv')\n",
    "\n",
    "#tokens_words=re.split('\\W+',\"http://linkedin.com\")"
   ]
  },
  {
   "cell_type": "code",
   "execution_count": null,
   "metadata": {
    "collapsed": true
   },
   "outputs": [],
   "source": []
  }
 ],
 "metadata": {
  "kernelspec": {
   "display_name": "Python 2",
   "language": "python",
   "name": "python2"
  },
  "language_info": {
   "codemirror_mode": {
    "name": "ipython",
    "version": 2
   },
   "file_extension": ".py",
   "mimetype": "text/x-python",
   "name": "python",
   "nbconvert_exporter": "python",
   "pygments_lexer": "ipython2",
   "version": "2.7.13"
  }
 },
 "nbformat": 4,
 "nbformat_minor": 2
}
